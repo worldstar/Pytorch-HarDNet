{
  "nbformat": 4,
  "nbformat_minor": 0,
  "metadata": {
    "colab": {
      "name": "HarDNet.ipynb",
      "provenance": [],
      "collapsed_sections": []
    },
    "kernelspec": {
      "name": "python3",
      "display_name": "Python 3"
    },
    "language_info": {
      "name": "python"
    },
    "accelerator": "GPU"
  },
  "cells": [
    {
      "cell_type": "code",
      "source": [
        "!git clone https://github.com/PingoLH/Pytorch-HarDNet.git"
      ],
      "metadata": {
        "colab": {
          "base_uri": "https://localhost:8080/"
        },
        "id": "xCLZbaHH6cEQ",
        "outputId": "82dbf903-5652-46c2-c069-29da115dfdbd"
      },
      "execution_count": null,
      "outputs": [
        {
          "output_type": "stream",
          "name": "stdout",
          "text": [
            "Cloning into 'Pytorch-HarDNet'...\n",
            "remote: Enumerating objects: 168, done.\u001b[K\n",
            "remote: Counting objects: 100% (104/104), done.\u001b[K\n",
            "remote: Compressing objects: 100% (71/71), done.\u001b[K\n",
            "remote: Total 168 (delta 44), reused 90 (delta 32), pack-reused 64\u001b[K\n",
            "Receiving objects: 100% (168/168), 197.06 MiB | 30.63 MiB/s, done.\n",
            "Resolving deltas: 100% (67/67), done.\n"
          ]
        }
      ]
    },
    {
      "cell_type": "code",
      "source": [
        "!curl -L \"https://public.roboflow.com/ds/rDAIuwMrJK?key=jAhRc0IeaD\" > roboflow.zip; unzip roboflow.zip; rm roboflow.zip"
      ],
      "metadata": {
        "id": "2Px2qindIMNK"
      },
      "execution_count": null,
      "outputs": []
    },
    {
      "cell_type": "code",
      "source": [
        "!nvidia-smi"
      ],
      "metadata": {
        "colab": {
          "base_uri": "https://localhost:8080/"
        },
        "id": "2icJRCaXIo9u",
        "outputId": "fce7db0d-239e-45eb-8fc2-4fbfa3d85ffc"
      },
      "execution_count": null,
      "outputs": [
        {
          "output_type": "stream",
          "name": "stdout",
          "text": [
            "Wed Jan 12 06:56:00 2022       \n",
            "+-----------------------------------------------------------------------------+\n",
            "| NVIDIA-SMI 495.46       Driver Version: 460.32.03    CUDA Version: 11.2     |\n",
            "|-------------------------------+----------------------+----------------------+\n",
            "| GPU  Name        Persistence-M| Bus-Id        Disp.A | Volatile Uncorr. ECC |\n",
            "| Fan  Temp  Perf  Pwr:Usage/Cap|         Memory-Usage | GPU-Util  Compute M. |\n",
            "|                               |                      |               MIG M. |\n",
            "|===============================+======================+======================|\n",
            "|   0  Tesla K80           Off  | 00000000:00:04.0 Off |                    0 |\n",
            "| N/A   62C    P8    30W / 149W |      0MiB / 11441MiB |      0%      Default |\n",
            "|                               |                      |                  N/A |\n",
            "+-------------------------------+----------------------+----------------------+\n",
            "                                                                               \n",
            "+-----------------------------------------------------------------------------+\n",
            "| Processes:                                                                  |\n",
            "|  GPU   GI   CI        PID   Type   Process name                  GPU Memory |\n",
            "|        ID   ID                                                   Usage      |\n",
            "|=============================================================================|\n",
            "|  No running processes found                                                 |\n",
            "+-----------------------------------------------------------------------------+\n"
          ]
        }
      ]
    },
    {
      "cell_type": "code",
      "source": [
        "from torch._C import PyTorchFileReader\n",
        "%cd Pytorch-HarDNet/\n",
        "\n",
        "# 改code\n",
        "!sed -i \"220 s/valdir = os.path.join(args.data, 'val')/valdir = os.path.join(args.data, 'valid')/\" main.py\n",
        "!sed -i \"458 s/correct\\[\\:k\\]/correct\\[\\:k\\]\\.contiguous()/\" main.py"
      ],
      "metadata": {
        "colab": {
          "base_uri": "https://localhost:8080/"
        },
        "id": "jy_nyuOpl-O8",
        "outputId": "1d1d8958-a13a-4fcd-ef8a-b1f75f898c65"
      },
      "execution_count": null,
      "outputs": [
        {
          "output_type": "stream",
          "name": "stdout",
          "text": [
            "/content/Pytorch-HarDNet\n"
          ]
        }
      ]
    },
    {
      "cell_type": "code",
      "source": [
        "# main.py, line 458 \n",
        "# correct_k = correct[:k].view(-1).float().sum(0, keepdim=True)\n",
        "# to \n",
        "# correct_k = correct[:k].contiguous().view(-1).float().sum(0, keepdim=True)\n",
        "\n",
        "\n",
        "%cd Pytorch-HarDNet/\n",
        "!python main.py -a hardnet68ds ../ -b 16 --epochs 1"
      ],
      "metadata": {
        "colab": {
          "base_uri": "https://localhost:8080/"
        },
        "id": "u3iLzFLDHvSF",
        "outputId": "5b569d82-37cd-40b9-c476-d18f45d5d731"
      },
      "execution_count": null,
      "outputs": [
        {
          "output_type": "stream",
          "name": "stdout",
          "text": [
            "[Errno 2] No such file or directory: 'Pytorch-HarDNet/'\n",
            "/content/Pytorch-HarDNet\n",
            "68\n",
            "=> creating model 'hardnet68ds'\n",
            "HarDBlock = [ 64 14 1.7 8 True ]\n",
            "ConvLayer = [ 124 128 1 ]\n",
            "DWConvLayer = [ 128 128 2 ]\n",
            "HarDBlock = [ 128 16 1.7 16 True ]\n",
            "ConvLayer = [ 262 256 1 ]\n",
            "HarDBlock = [ 256 20 1.7 16 True ]\n",
            "ConvLayer = [ 328 320 1 ]\n",
            "DWConvLayer = [ 320 320 2 ]\n",
            "HarDBlock = [ 320 40 1.7 16 True ]\n",
            "ConvLayer = [ 654 640 1 ]\n",
            "DWConvLayer = [ 640 640 2 ]\n",
            "HarDBlock = [ 640 160 1.7 4 True ]\n",
            "ConvLayer = [ 782 1024 1 ]\n",
            "AdaptiveAvgPool2d = [ 1 1 ]\n",
            "Flatten()\n",
            "Dropout = [ 0.05 ]\n",
            "Linear = [ 1024 1000 ]\n",
            "Parameters= 4180602\n",
            "/usr/local/lib/python3.7/dist-packages/torch/utils/data/dataloader.py:481: UserWarning: This DataLoader will create 16 worker processes in total. Our suggested max number of worker in current system is 2, which is smaller than what this DataLoader is going to create. Please be aware that excessive worker creation might get DataLoader running slow or even freeze, lower the worker number to avoid potential slowness/freeze if necessary.\n",
            "  cpuset_checked))\n",
            "Epoch: [0][ 0/80]\tTime:  7.609\tLoss: 6.9884e+00\tAcc@1:  0.000\tAcc@5:  0.000\tlr: 0.050000)\n",
            "Epoch: [0][10/80]\tTime:  0.947\tLoss: 3.2975e+00\tAcc@1: 42.045\tAcc@5: 90.909\tlr: 0.050000)\n",
            "Epoch: [0][20/80]\tTime:  0.629\tLoss: 2.8530e+00\tAcc@1: 47.321\tAcc@5: 95.238\tlr: 0.050000)\n",
            "Epoch: [0][30/80]\tTime:  0.517\tLoss: 2.3508e+00\tAcc@1: 54.435\tAcc@5: 96.774\tlr: 0.050000)\n",
            "Epoch: [0][40/80]\tTime:  0.460\tLoss: 2.1166e+00\tAcc@1: 56.707\tAcc@5: 97.561\tlr: 0.050000)\n",
            "Epoch: [0][50/80]\tTime:  0.424\tLoss: 1.9322e+00\tAcc@1: 56.863\tAcc@5: 98.039\tlr: 0.050000)\n",
            "Epoch: [0][60/80]\tTime:  0.400\tLoss: 1.7927e+00\tAcc@1: 58.402\tAcc@5: 98.361\tlr: 0.050000)\n",
            "Epoch: [0][70/80]\tTime:  0.382\tLoss: 1.7033e+00\tAcc@1: 58.715\tAcc@5: 98.592\tlr: 0.050000)\n",
            "Test: [ 0/23]\tTime:  3.225\tLoss: 2.4130e+00\tAcc@1:  50.00\tAcc@5: 100.00\n",
            "Test: [10/23]\tTime:  0.078\tLoss: 1.2372e+00\tAcc@1:  69.32\tAcc@5: 100.00\n",
            "Test: [20/23]\tTime:  0.078\tLoss: 1.3579e+00\tAcc@1:  65.18\tAcc@5: 100.00\n",
            " * Acc@1 64.560 Acc@5 100.000\n"
          ]
        }
      ]
    },
    {
      "cell_type": "code",
      "source": [
        ""
      ],
      "metadata": {
        "id": "B9hMECqHKQbc"
      },
      "execution_count": null,
      "outputs": []
    }
  ]
}